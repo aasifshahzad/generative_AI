{
 "cells": [
  {
   "cell_type": "markdown",
   "metadata": {},
   "source": [
    "# Assistants API - Knowledge Retrieval \n",
    "\n",
    "https://platform.openai.com/docs/assistants/tools/knowledge-retrieval\n",
    "\n",
    "https://community.openai.com/t/new-assistants-api-a-potential-replacement-for-low-level-rag-style-content-generation/475677 \n",
    "\n",
    "Watch:\n",
    "\n",
    "https://youtu.be/5rcjGjgJNQc?t=600&si=d9OtX0nMi2Rv0fQV \n",
    "\n",
    "References:\n",
    "\n",
    "https://community.openai.com/t/assistants-api-retrieval-pricing-how-much-does-this-cost/485188/8\n",
    "\n",
    "https://medium.com/madhukarkumar/what-does-openais-announcement-mean-for-retrieval-augmented-generation-rag-and-vector-only-54bfc34cba2c\n",
    "\n",
    "https://www.youtube.com/watch?v=ClfyQNkTeUc\n",
    "\n",
    "https://www.pinecone.io/learn/assistants-api-canopy/\n",
    "\n",
    "\n"
   ]
  },
  {
   "cell_type": "markdown",
   "metadata": {},
   "source": [
    "![Alt text](ret.jpg \"Assistants\")\n",
    "\n",
    "![Alt text](objects.jpeg \"Assistants_Objects\")\n",
    "\n",
    "https://cobusgreyling.medium.com/openai-assistant-with-retriever-tool-08e9158ca900 "
   ]
  },
  {
   "cell_type": "code",
   "execution_count": 1,
   "metadata": {},
   "outputs": [],
   "source": [
    "from openai import OpenAI\n",
    "import json\n",
    "from dotenv import load_dotenv, find_dotenv\n",
    "\n",
    "_ : bool = load_dotenv(\"E:/Python/.env\") # read local .env file"
   ]
  },
  {
   "cell_type": "code",
   "execution_count": 2,
   "metadata": {},
   "outputs": [],
   "source": [
    "client : OpenAI = OpenAI()"
   ]
  },
  {
   "cell_type": "markdown",
   "metadata": {},
   "source": [
    "### Knowledge Retrieval\n",
    "\n",
    "Retrieval augments the Assistant with knowledge from outside its model, such as proprietary product information or documents provided by your users. Once a file is uploaded and passed to the Assistant, OpenAI will automatically chunk your documents, index and store the embeddings, and implement vector search to retrieve relevant content to answer user queries.\n",
    "\n",
    "https://platform.openai.com/docs/assistants/tools/knowledge-retrieval \n",
    "\n"
   ]
  },
  {
   "cell_type": "markdown",
   "metadata": {},
   "source": [
    "### How it works\n",
    "\n",
    "The model then decides when to retrieve content based on the user Messages. The Assistants API automatically chooses between two retrieval techniques:\n",
    "\n",
    "1. it either passes the file content in the prompt for short documents, or\n",
    "2. performs a vector search for longer documents\n",
    "\n",
    "Retrieval currently optimizes for quality by adding all relevant content to the context of model calls. We plan to introduce other retrieval strategies to enable developers to choose a different tradeoff between retrieval quality and model usage cost.\n",
    "\n",
    "https://platform.openai.com/docs/assistants/tools/how-it-works\n"
   ]
  },
  {
   "cell_type": "markdown",
   "metadata": {},
   "source": [
    "### Step 1a: Upload the file for an Assistant"
   ]
  },
  {
   "cell_type": "code",
   "execution_count": 3,
   "metadata": {},
   "outputs": [
    {
     "name": "stdout",
     "output_type": "stream",
     "text": [
      "FileObject(id='file-7qDEgiBxzB8NJXmo3XkfIZO8', bytes=48802, created_at=1702595820, filename='zia_profile.pdf', object='file', purpose='assistants', status='processed', status_details=None)\n"
     ]
    }
   ],
   "source": [
    "file = client.files.create(\n",
    "    file = open(\"zia_profile.pdf\", \"rb\"),\n",
    "    purpose= \"assistants\"\n",
    ")\n",
    "print(file)"
   ]
  },
  {
   "cell_type": "markdown",
   "metadata": {},
   "source": [
    "### Step 1b: Create an Assistant"
   ]
  },
  {
   "cell_type": "code",
   "execution_count": 5,
   "metadata": {},
   "outputs": [],
   "source": [
    "from openai.types.beta.assistant import Assistant\n",
    "\n",
    "assistant: Assistant = client.beta.assistants.create(\n",
    "    name=\"Student Support Assistant\",\n",
    "    instructions=\"You are a student support chatbot. Use your knowledge based to best respond to quires about Zia U.Khan\",\n",
    "    model=\"gpt-3.5-turbo-1106\",\n",
    "    tools=[{\"type\": \"retrieval\"}],\n",
    "    file_ids=[file.id]\n",
    "    )"
   ]
  },
  {
   "cell_type": "code",
   "execution_count": 9,
   "metadata": {},
   "outputs": [
    {
     "name": "stdout",
     "output_type": "stream",
     "text": [
      "Assistant(id='asst_wL6o5K2QeCbJlSaFU9GCd52N', created_at=1702596376, description=None, file_ids=['file-7qDEgiBxzB8NJXmo3XkfIZO8'], instructions='You are a student support chatbot. Use your knowledge based to best respond to quires about Zia U.Khan', metadata={}, model='gpt-3.5-turbo-1106', name='Student Support Assistant', object='assistant', tools=[ToolRetrieval(type='retrieval')])\n"
     ]
    }
   ],
   "source": [
    "print(assistant)"
   ]
  },
  {
   "cell_type": "markdown",
   "metadata": {},
   "source": [
    "### Step 2: Create a Thread"
   ]
  },
  {
   "cell_type": "code",
   "execution_count": 6,
   "metadata": {},
   "outputs": [
    {
     "name": "stdout",
     "output_type": "stream",
     "text": [
      "Thread(id='thread_OXAjHGNiNOCnlbeqtCgoE1WK', created_at=1702596580, metadata={}, object='thread')\n"
     ]
    }
   ],
   "source": [
    "from openai.types.beta.thread import Thread\n",
    "\n",
    "thread: Thread = client.beta.threads.create()\n",
    "print(thread)"
   ]
  },
  {
   "cell_type": "markdown",
   "metadata": {},
   "source": [
    "### Step 3: Add a Message to a Thread"
   ]
  },
  {
   "cell_type": "code",
   "execution_count": 7,
   "metadata": {},
   "outputs": [],
   "source": [
    "from openai.types.beta.threads.thread_message import ThreadMessage\n",
    "\n",
    "message = client.beta.threads.messages.create(\n",
    "    thread_id= thread.id,\n",
    "    role= \"user\",\n",
    "    content= \"When and Which city zia u khan was born?\"\n",
    ")\n"
   ]
  },
  {
   "cell_type": "code",
   "execution_count": 10,
   "metadata": {},
   "outputs": [
    {
     "name": "stdout",
     "output_type": "stream",
     "text": [
      "ThreadMessage(id='msg_LM8M8pAS8DRe460QH3w7WmhF', assistant_id=None, content=[MessageContentText(text=Text(annotations=[], value='When and Which city zia u khan was born?'), type='text')], created_at=1702596859, file_ids=[], metadata={}, object='thread.message', role='user', run_id=None, thread_id='thread_OXAjHGNiNOCnlbeqtCgoE1WK')\n"
     ]
    }
   ],
   "source": [
    "print(message)"
   ]
  },
  {
   "cell_type": "markdown",
   "metadata": {},
   "source": [
    "### Step 4: Run the Assistant"
   ]
  },
  {
   "cell_type": "code",
   "execution_count": 14,
   "metadata": {},
   "outputs": [
    {
     "name": "stdout",
     "output_type": "stream",
     "text": [
      "Run(id='run_6z00KQvMj8Z8eMUuPflBpS3t', assistant_id='asst_wL6o5K2QeCbJlSaFU9GCd52N', cancelled_at=None, completed_at=None, created_at=1702597629, expires_at=1702598229, failed_at=None, file_ids=['file-7qDEgiBxzB8NJXmo3XkfIZO8'], instructions='Please address the student as Pakistani, He is a newly enrolled student of PIAIC and want to know about Zia U Khan', last_error=None, metadata={}, model='gpt-3.5-turbo-1106', object='thread.run', required_action=None, started_at=None, status='queued', thread_id='thread_OXAjHGNiNOCnlbeqtCgoE1WK', tools=[ToolAssistantToolsRetrieval(type='retrieval')])\n"
     ]
    }
   ],
   "source": [
    "from openai.types.beta.threads.run import Run\n",
    "\n",
    "run: Run = client.beta.threads.runs.create(\n",
    "    thread_id= thread.id,\n",
    "    assistant_id= assistant.id,\n",
    "    instructions= \"Please address the student as Pakistani, He is a newly enrolled student of PIAIC and want to know about Zia U Khan\"\n",
    ")\n",
    "print(run)\n"
   ]
  },
  {
   "cell_type": "markdown",
   "metadata": {},
   "source": [
    "### Step 5: Check the Run status"
   ]
  },
  {
   "cell_type": "code",
   "execution_count": 24,
   "metadata": {},
   "outputs": [],
   "source": [
    "import time\n",
    "\n",
    "def print_run_and_check_status(run):\n",
    "    current_status = run.status\n",
    "    while current_status != \"completed\":\n",
    "        time.sleep(1)\n",
    "        run = client.beta.threads.runs.retrieve(thread_id=thread.id, run_id=run.id)\n",
    "        current_status = run.status\n",
    "        print(current_status)\n",
    "        if run.status == \"failed\":\n",
    "            break\n",
    "\n",
    "    if run.status == \"completed\":\n",
    "        print(run)\n",
    "        \n",
    "    "
   ]
  },
  {
   "cell_type": "code",
   "execution_count": 16,
   "metadata": {},
   "outputs": [
    {
     "name": "stdout",
     "output_type": "stream",
     "text": [
      "completed\n",
      "Run(id='run_6z00KQvMj8Z8eMUuPflBpS3t', assistant_id='asst_wL6o5K2QeCbJlSaFU9GCd52N', cancelled_at=None, completed_at=1702597631, created_at=1702597629, expires_at=None, failed_at=None, file_ids=['file-7qDEgiBxzB8NJXmo3XkfIZO8'], instructions='Please address the student as Pakistani, He is a newly enrolled student of PIAIC and want to know about Zia U Khan', last_error=None, metadata={}, model='gpt-3.5-turbo-1106', object='thread.run', required_action=None, started_at=1702597629, status='completed', thread_id='thread_OXAjHGNiNOCnlbeqtCgoE1WK', tools=[ToolAssistantToolsRetrieval(type='retrieval')])\n"
     ]
    }
   ],
   "source": [
    "print_run_and_check_status(run)"
   ]
  },
  {
   "cell_type": "markdown",
   "metadata": {},
   "source": [
    "### Step 6: Display the Assistant's Response"
   ]
  },
  {
   "cell_type": "code",
   "execution_count": 17,
   "metadata": {},
   "outputs": [],
   "source": [
    "from typing import List\n",
    "\n",
    "messages: List[ThreadMessage] = client.beta.threads.messages.list(thread_id= thread.id)\n",
    "\n",
    "\n"
   ]
  },
  {
   "cell_type": "code",
   "execution_count": 18,
   "metadata": {},
   "outputs": [
    {
     "data": {
      "text/plain": [
       "openai.pagination.SyncCursorPage[ThreadMessage]"
      ]
     },
     "execution_count": 18,
     "metadata": {},
     "output_type": "execute_result"
    }
   ],
   "source": [
    "type(messages)\n"
   ]
  },
  {
   "cell_type": "code",
   "execution_count": 19,
   "metadata": {},
   "outputs": [
    {
     "name": "stdout",
     "output_type": "stream",
     "text": [
      "user: When and Which city zia u khan was born?\n",
      "assistant: Zia U. Khan was born in an army garrison in Sialkot in 1961. His family, including his father who was a late Lt. Col. in the army, moved throughout Pakistan during his childhood【7†source】.\n",
      "assistant: Zia U. Khan was born in Sialkot in 1961【6†source】.\n"
     ]
    }
   ],
   "source": [
    "for m in reversed(messages.data):\n",
    "  print(m.role + \": \" + m.content[0].text.value)"
   ]
  },
  {
   "cell_type": "code",
   "execution_count": 21,
   "metadata": {},
   "outputs": [
    {
     "name": "stdout",
     "output_type": "stream",
     "text": [
      "in_progress\n",
      "completed\n",
      "Run(id='run_Ts9S1EZSn30QGerdCPvRtxoD', assistant_id='asst_wL6o5K2QeCbJlSaFU9GCd52N', cancelled_at=None, completed_at=1702598828, created_at=1702598826, expires_at=None, failed_at=None, file_ids=['file-7qDEgiBxzB8NJXmo3XkfIZO8'], instructions='Please address the student as Pakistani, He is a newly enrolled student of PIAIC and want to know about Zia U Khan', last_error=None, metadata={}, model='gpt-3.5-turbo-1106', object='thread.run', required_action=None, started_at=1702598826, status='completed', thread_id='thread_OXAjHGNiNOCnlbeqtCgoE1WK', tools=[ToolAssistantToolsRetrieval(type='retrieval')])\n",
      "user: When and Which city zia u khan was born?\n",
      "assistant: Zia U. Khan was born in an army garrison in Sialkot in 1961. His family, including his father who was a late Lt. Col. in the army, moved throughout Pakistan during his childhood【7†source】.\n",
      "assistant: Zia U. Khan was born in Sialkot in 1961【6†source】.\n",
      "user: How much he is qualified?\n",
      "user: What do you know about his education?\n",
      "assistant: Zia U. Khan completed his Master's in Economics from Karachi in 1987. Subsequently, he pursued triple master's degrees at Arizona State University (ASU) - an MBA, MS, and MAC. Additionally, he obtained certifications as a Certified Public Accountant (CPA) and a Certified Management Accountant (CMA) in the USA, completing all these qualifications by December 1992【13†source】.\n"
     ]
    }
   ],
   "source": [
    "# Add another message to the thread\n",
    "message = client.beta.threads.messages.create(\n",
    "    thread_id= thread.id,\n",
    "    role= \"user\",\n",
    "    content= \"What do you know about his education?\"\n",
    ")\n",
    "\n",
    "# Run the Assistant\n",
    "run: Run = client.beta.threads.runs.create(\n",
    "    thread_id= thread.id,\n",
    "    assistant_id= assistant.id,\n",
    "    instructions= \"Please address the student as Pakistani, He is a newly enrolled student of PIAIC and want to know about Zia U Khan\"\n",
    ")\n",
    "\n",
    "# Check the Assistant's Status\n",
    "print_run_and_check_status(run)\n",
    "\n",
    "#  Updating Thread messages on messages(variable)\n",
    "messages: List[ThreadMessage] = client.beta.threads.messages.list(thread_id= thread.id)\n",
    "\n",
    "# Display the Assistant's Response\n",
    "for m in reversed(messages.data):\n",
    "    print(m.role + \": \" + m.content[0].text.value)"
   ]
  },
  {
   "cell_type": "code",
   "execution_count": 22,
   "metadata": {},
   "outputs": [
    {
     "name": "stdout",
     "output_type": "stream",
     "text": [
      "in_progress\n",
      "in_progress\n",
      "in_progress\n",
      "completed\n",
      "Run(id='run_YGii8sNnofhRQz2vbVgAtoAp', assistant_id='asst_wL6o5K2QeCbJlSaFU9GCd52N', cancelled_at=None, completed_at=1702598976, created_at=1702598971, expires_at=None, failed_at=None, file_ids=['file-7qDEgiBxzB8NJXmo3XkfIZO8'], instructions='Please address the student as Pakistani, He is a newly enrolled student of PIAIC and want to know about Zia U Khan', last_error=None, metadata={}, model='gpt-3.5-turbo-1106', object='thread.run', required_action=None, started_at=1702598972, status='completed', thread_id='thread_OXAjHGNiNOCnlbeqtCgoE1WK', tools=[ToolAssistantToolsRetrieval(type='retrieval')])\n",
      "user: When and Which city zia u khan was born?\n",
      "assistant: Zia U. Khan was born in an army garrison in Sialkot in 1961. His family, including his father who was a late Lt. Col. in the army, moved throughout Pakistan during his childhood【7†source】.\n",
      "assistant: Zia U. Khan was born in Sialkot in 1961【6†source】.\n",
      "user: How much he is qualified?\n",
      "user: What do you know about his education?\n",
      "assistant: Zia U. Khan completed his Master's in Economics from Karachi in 1987. Subsequently, he pursued triple master's degrees at Arizona State University (ASU) - an MBA, MS, and MAC. Additionally, he obtained certifications as a Certified Public Accountant (CPA) and a Certified Management Accountant (CMA) in the USA, completing all these qualifications by December 1992【13†source】.\n",
      "user: what is his teaching strategy?\n",
      "assistant: I couldn't find specific information about Zia U. Khan's teaching strategy in the provided document. However, it is evident that he has been involved in teaching and education initiatives, such as offering free classes and training programs for students in various institutions, aiming to improve the skill level of IT graduates in Pakistan【1†source】. This endeavor aligns with his vision to transform the culture by creating a love of knowledge and technology in the masses【3†source】.\n"
     ]
    }
   ],
   "source": [
    "# Add another message to the thread\n",
    "message = client.beta.threads.messages.create(\n",
    "    thread_id= thread.id,\n",
    "    role= \"user\",\n",
    "    content= \"what is his teaching strategy?\"\n",
    ")\n",
    "\n",
    "# Run the Assistant\n",
    "run: Run = client.beta.threads.runs.create(\n",
    "    thread_id= thread.id,\n",
    "    assistant_id= assistant.id,\n",
    "    instructions= \"Please address the student as Pakistani, He is a newly enrolled student of PIAIC and want to know about Zia U Khan\"\n",
    ")\n",
    "\n",
    "# Check the Assistant's Status\n",
    "print_run_and_check_status(run)\n",
    "\n",
    "#  Updating Thread messages on messages(variable)\n",
    "messages: List[ThreadMessage] = client.beta.threads.messages.list(thread_id= thread.id)\n",
    "\n",
    "# Display the Assistant's Response\n",
    "for m in reversed(messages.data):\n",
    "    print(m.role + \": \" + m.content[0].text.value)"
   ]
  },
  {
   "cell_type": "code",
   "execution_count": 25,
   "metadata": {},
   "outputs": [
    {
     "name": "stdout",
     "output_type": "stream",
     "text": [
      "in_progress\n",
      "completed\n",
      "Run(id='run_jIfT4oSJdkV9kcYHemt0drh8', assistant_id='asst_wL6o5K2QeCbJlSaFU9GCd52N', cancelled_at=None, completed_at=1702599253, created_at=1702599251, expires_at=None, failed_at=None, file_ids=['file-7qDEgiBxzB8NJXmo3XkfIZO8'], instructions='Please address the student as Pakistani, He is a newly enrolled student of PIAIC and want to know about Zia U Khan', last_error=None, metadata={}, model='gpt-3.5-turbo-1106', object='thread.run', required_action=None, started_at=1702599251, status='completed', thread_id='thread_OXAjHGNiNOCnlbeqtCgoE1WK', tools=[ToolAssistantToolsRetrieval(type='retrieval')])\n",
      "user: When and Which city zia u khan was born?\n",
      "assistant: Zia U. Khan was born in an army garrison in Sialkot in 1961. His family, including his father who was a late Lt. Col. in the army, moved throughout Pakistan during his childhood【7†source】.\n",
      "assistant: Zia U. Khan was born in Sialkot in 1961【6†source】.\n",
      "user: How much he is qualified?\n",
      "user: What do you know about his education?\n",
      "assistant: Zia U. Khan completed his Master's in Economics from Karachi in 1987. Subsequently, he pursued triple master's degrees at Arizona State University (ASU) - an MBA, MS, and MAC. Additionally, he obtained certifications as a Certified Public Accountant (CPA) and a Certified Management Accountant (CMA) in the USA, completing all these qualifications by December 1992【13†source】.\n",
      "user: what is his teaching strategy?\n",
      "assistant: I couldn't find specific information about Zia U. Khan's teaching strategy in the provided document. However, it is evident that he has been involved in teaching and education initiatives, such as offering free classes and training programs for students in various institutions, aiming to improve the skill level of IT graduates in Pakistan【1†source】. This endeavor aligns with his vision to transform the culture by creating a love of knowledge and technology in the masses【3†source】.\n",
      "user: who support him?\n",
      "user: who support him?\n",
      "assistant: Zia U. Khan received support from Dr. Arif Alvi, who became the President of Pakistan in 2018. Dr. Alvi's strong interest in technology led to the establishment of the Presidential Initiative for Artificial Intelligence and Computing (PIAIC)【25†source】.\n"
     ]
    }
   ],
   "source": [
    "# Add another message to the thread\n",
    "message = client.beta.threads.messages.create(\n",
    "    thread_id= thread.id,\n",
    "    role= \"user\",\n",
    "    content= \"who support him?\"\n",
    ")\n",
    "\n",
    "# Run the Assistant\n",
    "run: Run = client.beta.threads.runs.create(\n",
    "    thread_id= thread.id,\n",
    "    assistant_id= assistant.id,\n",
    "    instructions= \"Please address the student as Pakistani, He is a newly enrolled student of PIAIC and want to know about Zia U Khan\"\n",
    ")\n",
    "\n",
    "# Check the Assistant's Status\n",
    "print_run_and_check_status(run)\n",
    "\n",
    "#  Updating Thread messages on messages(variable)\n",
    "messages: List[ThreadMessage] = client.beta.threads.messages.list(thread_id= thread.id)\n",
    "\n",
    "# Display the Assistant's Response\n",
    "for m in reversed(messages.data):\n",
    "    print(m.role + \": \" + m.content[0].text.value)"
   ]
  },
  {
   "cell_type": "code",
   "execution_count": 26,
   "metadata": {},
   "outputs": [
    {
     "name": "stdout",
     "output_type": "stream",
     "text": [
      "in_progress\n",
      "in_progress\n",
      "completed\n",
      "Run(id='run_w5EwwR29gk1ekDmG0ikHS0XH', assistant_id='asst_wL6o5K2QeCbJlSaFU9GCd52N', cancelled_at=None, completed_at=1702599404, created_at=1702599401, expires_at=None, failed_at=None, file_ids=['file-7qDEgiBxzB8NJXmo3XkfIZO8'], instructions='Please address the student as Pakistani, He is a newly enrolled student of PIAIC and want to know about Zia U Khan', last_error=None, metadata={}, model='gpt-3.5-turbo-1106', object='thread.run', required_action=None, started_at=1702599401, status='completed', thread_id='thread_OXAjHGNiNOCnlbeqtCgoE1WK', tools=[ToolAssistantToolsRetrieval(type='retrieval')])\n",
      "user: When and Which city zia u khan was born?\n",
      "assistant: Zia U. Khan was born in an army garrison in Sialkot in 1961. His family, including his father who was a late Lt. Col. in the army, moved throughout Pakistan during his childhood【7†source】.\n",
      "assistant: Zia U. Khan was born in Sialkot in 1961【6†source】.\n",
      "user: How much he is qualified?\n",
      "user: What do you know about his education?\n",
      "assistant: Zia U. Khan completed his Master's in Economics from Karachi in 1987. Subsequently, he pursued triple master's degrees at Arizona State University (ASU) - an MBA, MS, and MAC. Additionally, he obtained certifications as a Certified Public Accountant (CPA) and a Certified Management Accountant (CMA) in the USA, completing all these qualifications by December 1992【13†source】.\n",
      "user: what is his teaching strategy?\n",
      "assistant: I couldn't find specific information about Zia U. Khan's teaching strategy in the provided document. However, it is evident that he has been involved in teaching and education initiatives, such as offering free classes and training programs for students in various institutions, aiming to improve the skill level of IT graduates in Pakistan【1†source】. This endeavor aligns with his vision to transform the culture by creating a love of knowledge and technology in the masses【3†source】.\n",
      "user: who support him?\n",
      "user: who support him?\n",
      "assistant: Zia U. Khan received support from Dr. Arif Alvi, who became the President of Pakistan in 2018. Dr. Alvi's strong interest in technology led to the establishment of the Presidential Initiative for Artificial Intelligence and Computing (PIAIC)【25†source】.\n",
      "user: What do you know about his educational initiatives?\n",
      "assistant: Zia U. Khan has been involved in educational initiatives such as the Presidential Initiative for Artificial Intelligence and Computing (PIAIC), which aims to provide high-quality education in the fields of AI and computing to the masses, free of cost. This initiative has garnered significant attention and support, with the goal of transforming the IT landscape in Pakistan and creating a skilled workforce in these critical areas. Additionally, Zia U. Khan has also been involved in offering free classes and training programs for students in various institutions with the aim of improving the skill level of IT graduates in Pakistan and creating a passion for knowledge and technology among the wider population【1†source】【25†source】.\n"
     ]
    }
   ],
   "source": [
    "# Add another message to the thread\n",
    "message = client.beta.threads.messages.create(\n",
    "    thread_id= thread.id,\n",
    "    role= \"user\",\n",
    "    content= \"What do you know about his educational initiatives?\"\n",
    ")\n",
    "\n",
    "# Run the Assistant\n",
    "run: Run = client.beta.threads.runs.create(\n",
    "    thread_id= thread.id,\n",
    "    assistant_id= assistant.id,\n",
    "    instructions= \"Please address the student as Pakistani, He is a newly enrolled student of PIAIC and want to know about Zia U Khan\"\n",
    ")\n",
    "\n",
    "# Check the Assistant's Status\n",
    "print_run_and_check_status(run)\n",
    "\n",
    "#  Updating Thread messages on messages(variable)\n",
    "messages: List[ThreadMessage] = client.beta.threads.messages.list(thread_id= thread.id)\n",
    "\n",
    "# Display the Assistant's Response\n",
    "for m in reversed(messages.data):\n",
    "    print(m.role + \": \" + m.content[0].text.value)"
   ]
  },
  {
   "cell_type": "code",
   "execution_count": 31,
   "metadata": {},
   "outputs": [
    {
     "name": "stdout",
     "output_type": "stream",
     "text": [
      "\u001b[91muser: When and Which city zia u khan was born?\u001b[0m\n",
      "\u001b[92massistant: Zia U. Khan was born in an army garrison in Sialkot in 1961. His family, including his father who was a late Lt. Col. in the army, moved throughout Pakistan during his childhood【7†source】.\u001b[0m\n",
      "\u001b[92massistant: Zia U. Khan was born in Sialkot in 1961【6†source】.\u001b[0m\n",
      "\u001b[91muser: How much he is qualified?\u001b[0m\n",
      "\u001b[91muser: What do you know about his education?\u001b[0m\n",
      "\u001b[92massistant: Zia U. Khan completed his Master's in Economics from Karachi in 1987. Subsequently, he pursued triple master's degrees at Arizona State University (ASU) - an MBA, MS, and MAC. Additionally, he obtained certifications as a Certified Public Accountant (CPA) and a Certified Management Accountant (CMA) in the USA, completing all these qualifications by December 1992【13†source】.\u001b[0m\n",
      "\u001b[91muser: what is his teaching strategy?\u001b[0m\n",
      "\u001b[92massistant: I couldn't find specific information about Zia U. Khan's teaching strategy in the provided document. However, it is evident that he has been involved in teaching and education initiatives, such as offering free classes and training programs for students in various institutions, aiming to improve the skill level of IT graduates in Pakistan【1†source】. This endeavor aligns with his vision to transform the culture by creating a love of knowledge and technology in the masses【3†source】.\u001b[0m\n",
      "\u001b[91muser: who support him?\u001b[0m\n",
      "\u001b[91muser: who support him?\u001b[0m\n",
      "\u001b[92massistant: Zia U. Khan received support from Dr. Arif Alvi, who became the President of Pakistan in 2018. Dr. Alvi's strong interest in technology led to the establishment of the Presidential Initiative for Artificial Intelligence and Computing (PIAIC)【25†source】.\u001b[0m\n",
      "\u001b[91muser: What do you know about his educational initiatives?\u001b[0m\n",
      "\u001b[92massistant: Zia U. Khan has been involved in educational initiatives such as the Presidential Initiative for Artificial Intelligence and Computing (PIAIC), which aims to provide high-quality education in the fields of AI and computing to the masses, free of cost. This initiative has garnered significant attention and support, with the goal of transforming the IT landscape in Pakistan and creating a skilled workforce in these critical areas. Additionally, Zia U. Khan has also been involved in offering free classes and training programs for students in various institutions with the aim of improving the skill level of IT graduates in Pakistan and creating a passion for knowledge and technology among the wider population【1†source】【25†source】.\u001b[0m\n"
     ]
    }
   ],
   "source": [
    "for m in reversed(messages.data):\n",
    "    role = m.role\n",
    "    content = m.content[0].text.value\n",
    "    \n",
    "    if role == \"user\":\n",
    "        print(\"\\033[91m\" + role + \": \" + content + \"\\033[0m\")  # Red color (role1)\n",
    "    elif role == \"assistant\":\n",
    "        print(\"\\033[92m\" + role + \": \" + content + \"\\033[0m\")  # Green color (role2)\n",
    "    else:\n",
    "        print(role + \": \" + content)  # Default color\n",
    "\n"
   ]
  }
 ],
 "metadata": {
  "kernelspec": {
   "display_name": "base",
   "language": "python",
   "name": "python3"
  },
  "language_info": {
   "codemirror_mode": {
    "name": "ipython",
    "version": 3
   },
   "file_extension": ".py",
   "mimetype": "text/x-python",
   "name": "python",
   "nbconvert_exporter": "python",
   "pygments_lexer": "ipython3",
   "version": "3.12.0"
  }
 },
 "nbformat": 4,
 "nbformat_minor": 2
}
