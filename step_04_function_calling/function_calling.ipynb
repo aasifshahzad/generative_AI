{
 "cells": [
  {
   "cell_type": "code",
   "execution_count": 1,
   "metadata": {},
   "outputs": [],
   "source": [
    "from openai import OpenAI\n",
    "from dotenv import load_dotenv,find_dotenv\n",
    "import os"
   ]
  },
  {
   "cell_type": "code",
   "execution_count": 2,
   "metadata": {},
   "outputs": [],
   "source": [
    "_ : bool = load_dotenv(find_dotenv(\"E:/Python/.env\"))\n",
    "api_key = os.environ.get(\"OPENAI_API_KEY\")"
   ]
  },
  {
   "cell_type": "code",
   "execution_count": 3,
   "metadata": {},
   "outputs": [
    {
     "name": "stdout",
     "output_type": "stream",
     "text": [
      "Asif\n"
     ]
    }
   ],
   "source": [
    "name = os.environ.get(\"MY_NAME\")\n",
    "print(name)"
   ]
  },
  {
   "cell_type": "code",
   "execution_count": 4,
   "metadata": {},
   "outputs": [],
   "source": [
    "client: OpenAI = OpenAI(api_key=api_key)"
   ]
  },
  {
   "cell_type": "markdown",
   "metadata": {},
   "source": [
    "### Backend API or External API (Hard Coded functions)"
   ]
  },
  {
   "cell_type": "code",
   "execution_count": 5,
   "metadata": {},
   "outputs": [],
   "source": [
    "import json"
   ]
  },
  {
   "cell_type": "code",
   "execution_count": 6,
   "metadata": {},
   "outputs": [],
   "source": [
    "def get_current_weather(location:str, unit:str)->str:\n",
    "    if \"Islamabad\" in location.lower():\n",
    "        return json.dumps(\n",
    "            {\n",
    "                \"location\": \"Islamabad\",\n",
    "                \"temperature\": \"10\",\n",
    "                \"unit\": \"celsius\"\n",
    "            }\n",
    "        )\n",
    "    elif \"Karachi\" in location.lower():\n",
    "        return json.dumps(\n",
    "            {\n",
    "                \"location\": \"Karachi\",\n",
    "                \"temperature\": \"10\",\n",
    "                \"unit\": \"celsius\"\n",
    "            }\n",
    "        )\n",
    "    elif  \"Lahore\" in location.lower():\n",
    "        return json.dumps(\n",
    "            {\n",
    "                \"location\": \"Lahore\",\n",
    "                \"temperature\": \"20\",\n",
    "                \"unit\": \"celsius\"\n",
    "            }\n",
    "        )\n",
    "    else:\n",
    "        return json.dumps(\n",
    "            {\n",
    "                \"location\": location,\n",
    "                \"temperature\": \"Unknown\"\n",
    "            }\n",
    "        )\n",
    "\n"
   ]
  },
  {
   "cell_type": "markdown",
   "metadata": {},
   "source": [
    "### Types\n",
    "\n",
    "https://github.com/openai/openai-python/tree/main/src/openai/types/chat\n"
   ]
  },
  {
   "cell_type": "code",
   "execution_count": 10,
   "metadata": {},
   "outputs": [],
   "source": [
    "from openai.types.chat.chat_completion import ChatCompletion,ChatCompletionMessage\n",
    "import json\n",
    "from IPython.display import display  # Assuming you are using IPython\n",
    "\n",
    "\n",
    "def run_conversation(main_request: str)->str:\n",
    "    #Step 1 send the conversation and available function to the model\n",
    "    messages = [\n",
    "        {\n",
    "            \"role\": \"user\",\n",
    "            \"content\": main_request,\n",
    "        }\n",
    "    ]\n",
    "    tools = [\n",
    "        {\n",
    "            \"type\": \"function\",\n",
    "            \"function\": {\n",
    "                \"name\": \"get_current_weather\",\n",
    "                \"description\": \"Get the current weather in a given location\",\n",
    "                \"parameters\": {\n",
    "                    \"type\": \"object\",\n",
    "                    \"properties\": {\n",
    "                        \"location\": {   \"type\": \"string\",\n",
    "                                        \"description\": \"The city and state, e.g. San Francisco, CA\"\n",
    "                                    },\n",
    "                        \"unit\":     {   \"type\": \"string\",\n",
    "                                        \"enum\": [\"celsius\", \"fahrenheit\"]\n",
    "                                    },\n",
    "                    },\n",
    "                    \"required\": [\"location\"],\n",
    "                },\n",
    "            },\n",
    "        }\n",
    "    ]\n",
    "    \n",
    "    # First Request\n",
    "    response: ChatCompletion = client.chat.completions.create(\n",
    "        model= \"gpt-3.5-turbo-1106\",\n",
    "        messages= messages,\n",
    "        tools= tools,\n",
    "        tool_choice= \"auto\", # auto is default, but we'll be explicit\n",
    "    )\n",
    "    response_message: ChatCompletion = response.choices[0].message\n",
    "    display(\" *First Response: \", dict(response_message))\n",
    "    \n",
    "    tool_calls = response_message.tool_calls\n",
    "    display(\"* First Response Tool Calls: \", list(tool_calls))\n",
    "    \n",
    "    #Step 2 Check if the model want to call a function\n",
    "    if tool_calls:\n",
    "        #Step 3 Call the function\n",
    "        #Note: The JSON response may not always be valid, be sure to handle errors\n",
    "        available_functions = {\n",
    "            \"get_current_weather\": get_current_weather,\n",
    "            #Only one function in this you can have multiple function\n",
    "        }\n",
    "        \n",
    "    #Step 4 Send the info for each function call and function response to the model\n",
    "        messages.append(response_message)\n",
    "        \n",
    "        for tool_call in tool_calls:\n",
    "            function_name = tool_call.function.name\n",
    "            function_to_call = available_functions[function_name]\n",
    "            function_args = json.loads(tool_call.function.arguments)\n",
    "            function_response = function_to_call(\n",
    "                    location= function_args.get(\"location\"),\n",
    "                    unit = function_args.get(\"unit\"),\n",
    "                    )\n",
    "            messages.append(\n",
    "                {\n",
    "                    \"tool_call_id\": tool_call.id,\n",
    "                    \"role\": \"tool\",\n",
    "                    \"name\": function_name,\n",
    "                    \"content\": function_response,\n",
    "                })\n",
    "            \n",
    "    display(\"* Second Request Message: \", list(messages))\n",
    "            \n",
    "    print(\"Messages before second API call:\", messages)\n",
    "            \n",
    "    second_response: ChatCompletion = client.chat.completions.create(\n",
    "                model=\"gpt-3.5-turbo-1106\",\n",
    "                messages=messages,\n",
    "            )\n",
    "            \n",
    "    print(\"* Second Response: \", dict(second_response))\n",
    "    return second_response.choices[0].message.content"
   ]
  },
  {
   "cell_type": "code",
   "execution_count": 11,
   "metadata": {},
   "outputs": [
    {
     "data": {
      "text/plain": [
       "' *First Response: '"
      ]
     },
     "metadata": {},
     "output_type": "display_data"
    },
    {
     "data": {
      "text/plain": [
       "{'content': None,\n",
       " 'role': 'assistant',\n",
       " 'function_call': None,\n",
       " 'tool_calls': [ChatCompletionMessageToolCall(id='call_GCcWKjeaJZAAmovjrJ6Od1O7', function=Function(arguments='{\"location\": \"Islamabad\", \"unit\": \"celsius\"}', name='get_current_weather'), type='function'),\n",
       "  ChatCompletionMessageToolCall(id='call_x1aLmEkc9NbJNfBvYBbLheL6', function=Function(arguments='{\"location\": \"Lahore\", \"unit\": \"celsius\"}', name='get_current_weather'), type='function'),\n",
       "  ChatCompletionMessageToolCall(id='call_mFZCmOcQCubJbEeGTIljDuZS', function=Function(arguments='{\"location\": \"Karachi\", \"unit\": \"celsius\"}', name='get_current_weather'), type='function')]}"
      ]
     },
     "metadata": {},
     "output_type": "display_data"
    },
    {
     "data": {
      "text/plain": [
       "'* First Response Tool Calls: '"
      ]
     },
     "metadata": {},
     "output_type": "display_data"
    },
    {
     "data": {
      "text/plain": [
       "[ChatCompletionMessageToolCall(id='call_GCcWKjeaJZAAmovjrJ6Od1O7', function=Function(arguments='{\"location\": \"Islamabad\", \"unit\": \"celsius\"}', name='get_current_weather'), type='function'),\n",
       " ChatCompletionMessageToolCall(id='call_x1aLmEkc9NbJNfBvYBbLheL6', function=Function(arguments='{\"location\": \"Lahore\", \"unit\": \"celsius\"}', name='get_current_weather'), type='function'),\n",
       " ChatCompletionMessageToolCall(id='call_mFZCmOcQCubJbEeGTIljDuZS', function=Function(arguments='{\"location\": \"Karachi\", \"unit\": \"celsius\"}', name='get_current_weather'), type='function')]"
      ]
     },
     "metadata": {},
     "output_type": "display_data"
    },
    {
     "data": {
      "text/plain": [
       "'* Second Request Message: '"
      ]
     },
     "metadata": {},
     "output_type": "display_data"
    },
    {
     "data": {
      "text/plain": [
       "[{'role': 'user',\n",
       "  'content': \"What's the weather like in Islamabad, Lahore and Karachi?\"},\n",
       " ChatCompletionMessage(content=None, role='assistant', function_call=None, tool_calls=[ChatCompletionMessageToolCall(id='call_GCcWKjeaJZAAmovjrJ6Od1O7', function=Function(arguments='{\"location\": \"Islamabad\", \"unit\": \"celsius\"}', name='get_current_weather'), type='function'), ChatCompletionMessageToolCall(id='call_x1aLmEkc9NbJNfBvYBbLheL6', function=Function(arguments='{\"location\": \"Lahore\", \"unit\": \"celsius\"}', name='get_current_weather'), type='function'), ChatCompletionMessageToolCall(id='call_mFZCmOcQCubJbEeGTIljDuZS', function=Function(arguments='{\"location\": \"Karachi\", \"unit\": \"celsius\"}', name='get_current_weather'), type='function')]),\n",
       " {'tool_call_id': 'call_GCcWKjeaJZAAmovjrJ6Od1O7',\n",
       "  'role': 'tool',\n",
       "  'name': 'get_current_weather',\n",
       "  'content': '{\"location\": \"Islamabad\", \"temperature\": \"Unknown\"}'},\n",
       " {'tool_call_id': 'call_x1aLmEkc9NbJNfBvYBbLheL6',\n",
       "  'role': 'tool',\n",
       "  'name': 'get_current_weather',\n",
       "  'content': '{\"location\": \"Lahore\", \"temperature\": \"Unknown\"}'},\n",
       " {'tool_call_id': 'call_mFZCmOcQCubJbEeGTIljDuZS',\n",
       "  'role': 'tool',\n",
       "  'name': 'get_current_weather',\n",
       "  'content': '{\"location\": \"Karachi\", \"temperature\": \"Unknown\"}'}]"
      ]
     },
     "metadata": {},
     "output_type": "display_data"
    },
    {
     "name": "stdout",
     "output_type": "stream",
     "text": [
      "Messages before second API call: [{'role': 'user', 'content': \"What's the weather like in Islamabad, Lahore and Karachi?\"}, ChatCompletionMessage(content=None, role='assistant', function_call=None, tool_calls=[ChatCompletionMessageToolCall(id='call_GCcWKjeaJZAAmovjrJ6Od1O7', function=Function(arguments='{\"location\": \"Islamabad\", \"unit\": \"celsius\"}', name='get_current_weather'), type='function'), ChatCompletionMessageToolCall(id='call_x1aLmEkc9NbJNfBvYBbLheL6', function=Function(arguments='{\"location\": \"Lahore\", \"unit\": \"celsius\"}', name='get_current_weather'), type='function'), ChatCompletionMessageToolCall(id='call_mFZCmOcQCubJbEeGTIljDuZS', function=Function(arguments='{\"location\": \"Karachi\", \"unit\": \"celsius\"}', name='get_current_weather'), type='function')]), {'tool_call_id': 'call_GCcWKjeaJZAAmovjrJ6Od1O7', 'role': 'tool', 'name': 'get_current_weather', 'content': '{\"location\": \"Islamabad\", \"temperature\": \"Unknown\"}'}, {'tool_call_id': 'call_x1aLmEkc9NbJNfBvYBbLheL6', 'role': 'tool', 'name': 'get_current_weather', 'content': '{\"location\": \"Lahore\", \"temperature\": \"Unknown\"}'}, {'tool_call_id': 'call_mFZCmOcQCubJbEeGTIljDuZS', 'role': 'tool', 'name': 'get_current_weather', 'content': '{\"location\": \"Karachi\", \"temperature\": \"Unknown\"}'}]\n",
      "* Second Response:  {'id': 'chatcmpl-8PZIeaIK7tppH5spQHS89AMLZjZxC', 'choices': [Choice(finish_reason='stop', index=0, message=ChatCompletionMessage(content=\"I'm sorry, but I am unable to retrieve the current weather information for Islamabad, Lahore, and Karachi at the moment. You may want to check a reliable weather website or app for the most up-to-date information.\", role='assistant', function_call=None, tool_calls=None))], 'created': 1701104584, 'model': 'gpt-3.5-turbo-1106', 'object': 'chat.completion', 'system_fingerprint': 'fp_eeff13170a', 'usage': CompletionUsage(completion_tokens=44, prompt_tokens=150, total_tokens=194)}\n"
     ]
    },
    {
     "data": {
      "text/plain": [
       "\"I'm sorry, but I am unable to retrieve the current weather information for Islamabad, Lahore, and Karachi at the moment. You may want to check a reliable weather website or app for the most up-to-date information.\""
      ]
     },
     "execution_count": 11,
     "metadata": {},
     "output_type": "execute_result"
    }
   ],
   "source": [
    "run_conversation(\"What's the weather like in Islamabad, Lahore and Karachi?\")"
   ]
  },
  {
   "cell_type": "code",
   "execution_count": null,
   "metadata": {},
   "outputs": [],
   "source": []
  }
 ],
 "metadata": {
  "kernelspec": {
   "display_name": "python-12-env",
   "language": "python",
   "name": "python3"
  },
  "language_info": {
   "codemirror_mode": {
    "name": "ipython",
    "version": 3
   },
   "file_extension": ".py",
   "mimetype": "text/x-python",
   "name": "python",
   "nbconvert_exporter": "python",
   "pygments_lexer": "ipython3",
   "version": "3.12.0"
  }
 },
 "nbformat": 4,
 "nbformat_minor": 2
}
