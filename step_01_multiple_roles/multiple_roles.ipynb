{
 "cells": [
  {
   "cell_type": "code",
   "execution_count": 1,
   "metadata": {},
   "outputs": [],
   "source": [
    "from openai import OpenAI\n",
    "from dotenv import load_dotenv,find_dotenv\n",
    "import os"
   ]
  },
  {
   "cell_type": "code",
   "execution_count": 2,
   "metadata": {},
   "outputs": [],
   "source": [
    "_ : bool = load_dotenv(find_dotenv())\n",
    "api_key = os.environ.get(\"OPENAI_AI_KEY\")"
   ]
  },
  {
   "cell_type": "code",
   "execution_count": 3,
   "metadata": {},
   "outputs": [
    {
     "name": "stdout",
     "output_type": "stream",
     "text": [
      "Asif\n"
     ]
    }
   ],
   "source": [
    "name = os.environ.get(\"MY_NAME\")\n",
    "print(name)"
   ]
  },
  {
   "cell_type": "code",
   "execution_count": 4,
   "metadata": {},
   "outputs": [],
   "source": [
    "client: OpenAI = OpenAI(api_key=api_key)"
   ]
  },
  {
   "cell_type": "code",
   "execution_count": 6,
   "metadata": {},
   "outputs": [],
   "source": [
    "from openai.types.chat.chat_completion import ChatCompletion\n",
    "\n",
    "def chat_completion(prompt : str)-> str:\n",
    "    response : ChatCompletion = client.chat.completions.create(\n",
    "        messages=[\n",
    "            {\n",
    "                \"role\" : \"system\",\n",
    "                \"content\" : \"You are a Chemical Engineer, expert in chemical reactions and its details\"\n",
    "            },\n",
    "            {\n",
    "                \"role\": \"user\",\n",
    "                \"content\": prompt\n",
    "            }\n",
    "        ],\n",
    "        model= \"gpt-3.5-turbo-1106\"\n",
    "    )\n",
    "    return response"
   ]
  },
  {
   "cell_type": "code",
   "execution_count": 7,
   "metadata": {},
   "outputs": [],
   "source": [
    "response = chat_completion(\"Describe chemical reaction of salt and water.\")"
   ]
  },
  {
   "cell_type": "code",
   "execution_count": 8,
   "metadata": {},
   "outputs": [
    {
     "name": "stdout",
     "output_type": "stream",
     "text": [
      "ChatCompletion(id='chatcmpl-8O8UVKln66sVklZXWJWm42ccbm0G0', choices=[Choice(finish_reason='stop', index=0, message=ChatCompletionMessage(content='When salt (sodium chloride, NaCl) dissolves in water, a chemical reaction does not occur. Instead, the process involves a physical change where the ionic bonds holding the sodium and chloride ions together in the solid crystal lattice are broken and the ions are surrounded by water molecules, resulting in dissociation. \\n\\nThe sodium chloride crystal lattice dissociates into its individual sodium ions (Na+) and chloride ions (Cl-) in the water, and this is known as hydration. These ions are then surrounded and stabilized by the polar water molecules due to their electrostatic interactions, resulting in a solution of sodium and chloride ions in water.\\n\\nThis process is reversible, and if the water is evaporated, the sodium chloride will re-form as a solid crystal. This dissolution of salt in water is an example of a physical change and does not involve the formation of new chemical compounds.', role='assistant', function_call=None, tool_calls=None))], created=1700763203, model='gpt-3.5-turbo-1106', object='chat.completion', system_fingerprint='fp_eeff13170a', usage=CompletionUsage(completion_tokens=175, prompt_tokens=32, total_tokens=207))\n"
     ]
    }
   ],
   "source": [
    "print(response)"
   ]
  },
  {
   "cell_type": "code",
   "execution_count": 10,
   "metadata": {},
   "outputs": [
    {
     "data": {
      "text/plain": [
       "[Choice(finish_reason='stop', index=0, message=ChatCompletionMessage(content='When salt (sodium chloride, NaCl) dissolves in water, a chemical reaction does not occur. Instead, the process involves a physical change where the ionic bonds holding the sodium and chloride ions together in the solid crystal lattice are broken and the ions are surrounded by water molecules, resulting in dissociation. \\n\\nThe sodium chloride crystal lattice dissociates into its individual sodium ions (Na+) and chloride ions (Cl-) in the water, and this is known as hydration. These ions are then surrounded and stabilized by the polar water molecules due to their electrostatic interactions, resulting in a solution of sodium and chloride ions in water.\\n\\nThis process is reversible, and if the water is evaporated, the sodium chloride will re-form as a solid crystal. This dissolution of salt in water is an example of a physical change and does not involve the formation of new chemical compounds.', role='assistant', function_call=None, tool_calls=None))]"
      ]
     },
     "metadata": {},
     "output_type": "display_data"
    }
   ],
   "source": [
    "display(response.choices)"
   ]
  },
  {
   "cell_type": "code",
   "execution_count": 11,
   "metadata": {},
   "outputs": [
    {
     "name": "stdout",
     "output_type": "stream",
     "text": [
      "Choice(finish_reason='stop', index=0, message=ChatCompletionMessage(content='When salt (sodium chloride, NaCl) dissolves in water, a chemical reaction does not occur. Instead, the process involves a physical change where the ionic bonds holding the sodium and chloride ions together in the solid crystal lattice are broken and the ions are surrounded by water molecules, resulting in dissociation. \\n\\nThe sodium chloride crystal lattice dissociates into its individual sodium ions (Na+) and chloride ions (Cl-) in the water, and this is known as hydration. These ions are then surrounded and stabilized by the polar water molecules due to their electrostatic interactions, resulting in a solution of sodium and chloride ions in water.\\n\\nThis process is reversible, and if the water is evaporated, the sodium chloride will re-form as a solid crystal. This dissolution of salt in water is an example of a physical change and does not involve the formation of new chemical compounds.', role='assistant', function_call=None, tool_calls=None))\n"
     ]
    }
   ],
   "source": [
    "print(response.choices[0])"
   ]
  },
  {
   "cell_type": "code",
   "execution_count": 13,
   "metadata": {},
   "outputs": [
    {
     "name": "stdout",
     "output_type": "stream",
     "text": [
      "When salt (sodium chloride, NaCl) dissolves in water, a chemical reaction does not occur. Instead, the process involves a physical change where the ionic bonds holding the sodium and chloride ions together in the solid crystal lattice are broken and the ions are surrounded by water molecules, resulting in dissociation. \n",
      "\n",
      "The sodium chloride crystal lattice dissociates into its individual sodium ions (Na+) and chloride ions (Cl-) in the water, and this is known as hydration. These ions are then surrounded and stabilized by the polar water molecules due to their electrostatic interactions, resulting in a solution of sodium and chloride ions in water.\n",
      "\n",
      "This process is reversible, and if the water is evaporated, the sodium chloride will re-form as a solid crystal. This dissolution of salt in water is an example of a physical change and does not involve the formation of new chemical compounds.\n"
     ]
    }
   ],
   "source": [
    "print(response.choices[0].message.content)"
   ]
  },
  {
   "cell_type": "code",
   "execution_count": null,
   "metadata": {},
   "outputs": [],
   "source": []
  }
 ],
 "metadata": {
  "kernelspec": {
   "display_name": "python-12-env",
   "language": "python",
   "name": "python3"
  },
  "language_info": {
   "codemirror_mode": {
    "name": "ipython",
    "version": 3
   },
   "file_extension": ".py",
   "mimetype": "text/x-python",
   "name": "python",
   "nbconvert_exporter": "python",
   "pygments_lexer": "ipython3",
   "version": "3.12.0"
  }
 },
 "nbformat": 4,
 "nbformat_minor": 2
}
