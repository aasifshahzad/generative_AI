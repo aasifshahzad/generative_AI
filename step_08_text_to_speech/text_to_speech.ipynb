{
 "cells": [
  {
   "cell_type": "code",
   "execution_count": 5,
   "metadata": {},
   "outputs": [],
   "source": [
    "from openai import OpenAI\n",
    "from dotenv import load_dotenv, find_dotenv\n",
    "\n",
    "_ : bool = load_dotenv(\"E:/Python/.env\")\n",
    "client: OpenAI = OpenAI()"
   ]
  },
  {
   "cell_type": "code",
   "execution_count": 9,
   "metadata": {},
   "outputs": [],
   "source": [
    "speech_file_path = \"speech.mp3\"\n",
    "response = client.audio.speech.create(\n",
    "    model=\"tts-1\",\n",
    "    voice=\"echo\",\n",
    "    input=\"جبکہ ٹیکنالوجی میں ترقی ہوتی رہے ہے، ٹیکسٹ-ٹو-سپیچ ہمیشہ مواصلات کی ایک انقلاب میں قرار لے رہا ہے، رکاوٹوں کو توڑ کر ایک مزیدار ڈیجیٹل منظر نامے کو فروغ دینے میں مدد فراہم کرتا ہے۔\"\n",
    ")\n",
    "\n",
    "response.stream_to_file(speech_file_path)"
   ]
  },
  {
   "cell_type": "code",
   "execution_count": 6,
   "metadata": {},
   "outputs": [],
   "source": [
    "from openai import OpenAI\n",
    "\n",
    "client = OpenAI()\n",
    "\n",
    "response = client.audio.speech.create(\n",
    "    model=\"tts-1\",\n",
    "    voice=\"alloy\",\n",
    "    input=\"Hello world what are doing there! join me in coding text to speech.\",\n",
    ")\n",
    "\n",
    "response.stream_to_file(\"output.mp3\")"
   ]
  }
 ],
 "metadata": {
  "kernelspec": {
   "display_name": "python-12-env",
   "language": "python",
   "name": "python3"
  },
  "language_info": {
   "codemirror_mode": {
    "name": "ipython",
    "version": 3
   },
   "file_extension": ".py",
   "mimetype": "text/x-python",
   "name": "python",
   "nbconvert_exporter": "python",
   "pygments_lexer": "ipython3",
   "version": "3.12.0"
  }
 },
 "nbformat": 4,
 "nbformat_minor": 2
}
