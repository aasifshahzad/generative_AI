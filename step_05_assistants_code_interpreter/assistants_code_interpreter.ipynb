{
 "cells": [
  {
   "cell_type": "code",
   "execution_count": 1,
   "metadata": {},
   "outputs": [],
   "source": [
    "from openai import OpenAI\n",
    "import json\n",
    "from dotenv import load_dotenv,find_dotenv\n",
    "\n",
    "_ :bool = load_dotenv(\"E:/Python/.env\")"
   ]
  },
  {
   "cell_type": "code",
   "execution_count": 2,
   "metadata": {},
   "outputs": [],
   "source": [
    "client : OpenAI = OpenAI()"
   ]
  },
  {
   "cell_type": "markdown",
   "metadata": {},
   "source": [
    "### Step 1: Create an Assistant"
   ]
  },
  {
   "cell_type": "code",
   "execution_count": 3,
   "metadata": {},
   "outputs": [
    {
     "name": "stdout",
     "output_type": "stream",
     "text": [
      "Assistant(id='asst_xznH4PSflK9vWv6t2MrgcxLn', created_at=1702555241, description=None, file_ids=[], instructions='You are a personal math tutor. Write and run code to answer math questions.', metadata={}, model='gpt-3.5-turbo-1106', name=\"Math's Tutor\", object='assistant', tools=[ToolCodeInterpreter(type='code_interpreter')])\n"
     ]
    }
   ],
   "source": [
    "from openai.types.beta import Assistant\n",
    "\n",
    "assistant: Assistant = client.beta.assistants.create(\n",
    "    name=\"Math's Tutor\",\n",
    "    instructions=\"You are a personal math tutor. Write and run code to answer math questions.\",\n",
    "    tools=[{\"type\": \"code_interpreter\"}],\n",
    "    model=\"gpt-3.5-turbo-1106\",\n",
    ")\n",
    "\n",
    "\n",
    "print(assistant)"
   ]
  },
  {
   "cell_type": "markdown",
   "metadata": {},
   "source": [
    "### Step 2: Create a Thread"
   ]
  },
  {
   "cell_type": "code",
   "execution_count": 4,
   "metadata": {},
   "outputs": [
    {
     "name": "stdout",
     "output_type": "stream",
     "text": [
      "Thread(id='thread_tu4YIWrR6cvtOJe8GRzhFSlz', created_at=1702555245, metadata={}, object='thread')\n"
     ]
    }
   ],
   "source": [
    "from openai.types.beta.thread import Thread\n",
    "\n",
    "thread: Thread = client.beta.threads.create()\n",
    "\n",
    "\n",
    "print(thread)"
   ]
  },
  {
   "cell_type": "markdown",
   "metadata": {},
   "source": [
    "### Step 3: Add a Message to a Thread"
   ]
  },
  {
   "cell_type": "code",
   "execution_count": 5,
   "metadata": {},
   "outputs": [
    {
     "name": "stdout",
     "output_type": "stream",
     "text": [
      "ThreadMessage(id='msg_L0A3ug5lOWv7DYKLMYKrdyR4', assistant_id=None, content=[MessageContentText(text=Text(annotations=[], value='I need to solve the equation `2x + 5 = 3x`. Can you help me'), type='text')], created_at=1702555248, file_ids=[], metadata={}, object='thread.message', role='user', run_id=None, thread_id='thread_tu4YIWrR6cvtOJe8GRzhFSlz')\n"
     ]
    }
   ],
   "source": [
    "from openai.types.beta.threads.thread_message import ThreadMessage\n",
    "\n",
    "message: ThreadMessage = client.beta.threads.messages.create(\n",
    "    thread_id=thread.id,\n",
    "    role=\"user\",\n",
    "    content=\"I need to solve the equation `2x + 5 = 3x`. Can you help me\"\n",
    ")\n",
    "\n",
    "print(message)"
   ]
  },
  {
   "cell_type": "markdown",
   "metadata": {},
   "source": [
    "### Step 4: Run the Assistant"
   ]
  },
  {
   "cell_type": "code",
   "execution_count": 6,
   "metadata": {},
   "outputs": [
    {
     "name": "stdout",
     "output_type": "stream",
     "text": [
      "Run(id='run_lj6yWJZpdnYAtEx0j9bNDmN9', assistant_id='asst_xznH4PSflK9vWv6t2MrgcxLn', cancelled_at=None, completed_at=None, created_at=1702555254, expires_at=1702555854, failed_at=None, file_ids=[], instructions='Please address the user as Asif. The user has a premium account', last_error=None, metadata={}, model='gpt-3.5-turbo-1106', object='thread.run', required_action=None, started_at=None, status='queued', thread_id='thread_tu4YIWrR6cvtOJe8GRzhFSlz', tools=[ToolAssistantToolsCode(type='code_interpreter')])\n"
     ]
    }
   ],
   "source": [
    "from  openai.types.beta.threads.run import Run\n",
    "\n",
    "run: Run = client.beta.threads.runs.create(\n",
    "    thread_id= thread.id,\n",
    "    assistant_id= assistant.id,\n",
    "    instructions=\"Please address the user as Asif. The user has a premium account\"\n",
    ")\n",
    "\n",
    "print(run)"
   ]
  },
  {
   "cell_type": "markdown",
   "metadata": {},
   "source": [
    "### Step 5: Check the Run status"
   ]
  },
  {
   "cell_type": "code",
   "execution_count": 13,
   "metadata": {},
   "outputs": [],
   "source": [
    "import time\n",
    "\n",
    "def print_run_and_check_status(run):\n",
    "    current_status = run.status\n",
    "    while current_status != \"completed\":\n",
    "        time.sleep(1)\n",
    "        run = client.beta.threads.runs.retrieve(thread_id=thread.id, run_id=run.id)\n",
    "        current_status = run.status\n",
    "        print(current_status)\n",
    "\n",
    "    if run.status == \"completed\":\n",
    "        print(run)\n"
   ]
  },
  {
   "cell_type": "code",
   "execution_count": 14,
   "metadata": {},
   "outputs": [
    {
     "name": "stdout",
     "output_type": "stream",
     "text": [
      "completed\n",
      "Run(id='run_lj6yWJZpdnYAtEx0j9bNDmN9', assistant_id='asst_xznH4PSflK9vWv6t2MrgcxLn', cancelled_at=None, completed_at=1702555264, created_at=1702555254, expires_at=None, failed_at=None, file_ids=[], instructions='Please address the user as Asif. The user has a premium account', last_error=None, metadata={}, model='gpt-3.5-turbo-1106', object='thread.run', required_action=None, started_at=1702555255, status='completed', thread_id='thread_tu4YIWrR6cvtOJe8GRzhFSlz', tools=[ToolAssistantToolsCode(type='code_interpreter')])\n"
     ]
    }
   ],
   "source": [
    "print_run_and_check_status(run)"
   ]
  },
  {
   "cell_type": "markdown",
   "metadata": {},
   "source": [
    "### Step 6: Display the Assistant's Response"
   ]
  },
  {
   "cell_type": "code",
   "execution_count": 15,
   "metadata": {},
   "outputs": [
    {
     "name": "stdout",
     "output_type": "stream",
     "text": [
      "user: I need to solve the equation `2x + 5 = 3x`. Can you help me\n",
      "assistant: The solution to the equation 2x + 5 = 3x is x = 5.\n"
     ]
    }
   ],
   "source": [
    "from typing import List\n",
    "\n",
    "messages: List[ThreadMessage] = client.beta.threads.messages.list(\n",
    "    thread_id= thread.id\n",
    ") \n",
    "\n",
    "for m in reversed(messages.data):\n",
    "    print(m.role + \": \" + m.content[0].text.value)\n",
    "    "
   ]
  },
  {
   "cell_type": "markdown",
   "metadata": {},
   "source": [
    "### Adding another message "
   ]
  },
  {
   "cell_type": "code",
   "execution_count": 16,
   "metadata": {},
   "outputs": [],
   "source": [
    "message: ThreadMessage = client.beta.threads.messages.create(\n",
    "    thread_id=thread.id,\n",
    "    role=\"user\",\n",
    "    content=\"can you teach me, the steps involve in solving the above equation\"\n",
    ")"
   ]
  },
  {
   "cell_type": "code",
   "execution_count": 17,
   "metadata": {},
   "outputs": [
    {
     "name": "stdout",
     "output_type": "stream",
     "text": [
      "in_progress\n",
      "in_progress\n",
      "completed\n",
      "Run(id='run_9uXHKOK5iqvPcMJezoSAdSDx', assistant_id='asst_xznH4PSflK9vWv6t2MrgcxLn', cancelled_at=None, completed_at=1702555557, created_at=1702555554, expires_at=None, failed_at=None, file_ids=[], instructions='Please address the user as Asif. The user has a premium account', last_error=None, metadata={}, model='gpt-3.5-turbo-1106', object='thread.run', required_action=None, started_at=1702555554, status='completed', thread_id='thread_tu4YIWrR6cvtOJe8GRzhFSlz', tools=[ToolAssistantToolsCode(type='code_interpreter')])\n"
     ]
    }
   ],
   "source": [
    "run: Run = client.beta.threads.runs.create(\n",
    "    thread_id= thread.id,\n",
    "    assistant_id= assistant.id,\n",
    "    instructions=\"Please address the user as Asif. The user has a premium account\"\n",
    ")\n",
    "\n",
    "# Call the function to print and check status changes\n",
    "print_run_and_check_status(run)"
   ]
  },
  {
   "cell_type": "code",
   "execution_count": 18,
   "metadata": {},
   "outputs": [
    {
     "name": "stdout",
     "output_type": "stream",
     "text": [
      "user: I need to solve the equation `2x + 5 = 3x`. Can you help me\n",
      "assistant: The solution to the equation 2x + 5 = 3x is x = 5.\n",
      "user: can you teach me, the steps involve in solving the above equation\n",
      "assistant: Sure! The steps involved in solving the equation 2x + 5 = 3x are as follows:\n",
      "\n",
      "Step 1: Start with the given equation 2x + 5 = 3x.\n",
      "\n",
      "Step 2: Subtract 2x from both sides of the equation to isolate the variable x on one side. This will give us 5 = x.\n",
      "\n",
      "Step 3: The result is the solution to the equation: x = 5.\n",
      "\n",
      "So, the solution to the equation is x = 5.\n"
     ]
    }
   ],
   "source": [
    "from typing import List\n",
    "\n",
    "messages: List[ThreadMessage] = client.beta.threads.messages.list(\n",
    "    thread_id= thread.id\n",
    ") \n",
    "\n",
    "for m in reversed(messages.data):\n",
    "    print(m.role + \": \" + m.content[0].text.value)"
   ]
  },
  {
   "cell_type": "code",
   "execution_count": 19,
   "metadata": {},
   "outputs": [
    {
     "name": "stdout",
     "output_type": "stream",
     "text": [
      "in_progress\n",
      "in_progress\n",
      "completed\n",
      "Run(id='run_iwYjTuOl3pJ97QpY69mCm2ca', assistant_id='asst_xznH4PSflK9vWv6t2MrgcxLn', cancelled_at=None, completed_at=1702555601, created_at=1702555597, expires_at=None, failed_at=None, file_ids=[], instructions='Please address the user as Asif. The user has a premium account', last_error=None, metadata={}, model='gpt-3.5-turbo-1106', object='thread.run', required_action=None, started_at=1702555598, status='completed', thread_id='thread_tu4YIWrR6cvtOJe8GRzhFSlz', tools=[ToolAssistantToolsCode(type='code_interpreter')])\n"
     ]
    }
   ],
   "source": [
    "message: ThreadMessage = client.beta.threads.messages.create(\n",
    "    thread_id=thread.id,\n",
    "    role=\"user\",\n",
    "    content=\"what type of these equation are?\"\n",
    ")\n",
    "run: Run = client.beta.threads.runs.create(\n",
    "    thread_id= thread.id,\n",
    "    assistant_id= assistant.id,\n",
    "    instructions=\"Please address the user as Asif. The user has a premium account\"\n",
    ")\n",
    "print_run_and_check_status(run)\n"
   ]
  },
  {
   "cell_type": "code",
   "execution_count": 20,
   "metadata": {},
   "outputs": [
    {
     "name": "stdout",
     "output_type": "stream",
     "text": [
      "user: I need to solve the equation `2x + 5 = 3x`. Can you help me\n",
      "assistant: The solution to the equation 2x + 5 = 3x is x = 5.\n",
      "user: can you teach me, the steps involve in solving the above equation\n",
      "assistant: Sure! The steps involved in solving the equation 2x + 5 = 3x are as follows:\n",
      "\n",
      "Step 1: Start with the given equation 2x + 5 = 3x.\n",
      "\n",
      "Step 2: Subtract 2x from both sides of the equation to isolate the variable x on one side. This will give us 5 = x.\n",
      "\n",
      "Step 3: The result is the solution to the equation: x = 5.\n",
      "\n",
      "So, the solution to the equation is x = 5.\n",
      "user: what type of these equation are?\n",
      "assistant: The equation 2x + 5 = 3x is a linear equation. In general, a linear equation is an algebraic equation in which each term is either a constant or the product of a constant and (the first power of) a single variable. The standard form of a linear equation is Ax + By = C, where A, B, and C are constants and x and y are variables.\n"
     ]
    }
   ],
   "source": [
    "from typing import List\n",
    "\n",
    "messages: List[ThreadMessage] = client.beta.threads.messages.list(\n",
    "    thread_id= thread.id\n",
    ") \n",
    "\n",
    "for m in reversed(messages.data):\n",
    "    print(m.role + \": \" + m.content[0].text.value)"
   ]
  }
 ],
 "metadata": {
  "kernelspec": {
   "display_name": "python-12-env",
   "language": "python",
   "name": "python3"
  },
  "language_info": {
   "codemirror_mode": {
    "name": "ipython",
    "version": 3
   },
   "file_extension": ".py",
   "mimetype": "text/x-python",
   "name": "python",
   "nbconvert_exporter": "python",
   "pygments_lexer": "ipython3",
   "version": "3.12.0"
  }
 },
 "nbformat": 4,
 "nbformat_minor": 2
}
